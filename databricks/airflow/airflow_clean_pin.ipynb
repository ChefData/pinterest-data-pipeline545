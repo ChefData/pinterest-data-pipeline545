{
 "cells": [
  {
   "cell_type": "markdown",
   "metadata": {
    "application/vnd.databricks.v1+cell": {
     "cellMetadata": {},
     "inputWidgets": {},
     "nuid": "bba236a6-f097-45c4-a2bd-540e78dbcf02",
     "showTitle": false,
     "title": ""
    }
   },
   "source": [
    "## Clean Pin Batch Data"
   ]
  },
  {
   "cell_type": "markdown",
   "metadata": {
    "application/vnd.databricks.v1+cell": {
     "cellMetadata": {},
     "inputWidgets": {},
     "nuid": "61a9f8de-c717-4737-b5bf-276460a363e2",
     "showTitle": false,
     "title": ""
    }
   },
   "source": [
    "#### Import methods\n",
    "\n",
    "The following cell allows access to the methods from the DataCleaning class within the databricks_clean_data notebook"
   ]
  },
  {
   "cell_type": "code",
   "execution_count": 0,
   "metadata": {
    "application/vnd.databricks.v1+cell": {
     "cellMetadata": {},
     "inputWidgets": {},
     "nuid": "01306ba1-1086-4e6f-b38f-82331c2071dd",
     "showTitle": false,
     "title": ""
    }
   },
   "outputs": [],
   "source": [
    "%run \"../classes/databricks_clean_data\""
   ]
  },
  {
   "cell_type": "markdown",
   "metadata": {
    "application/vnd.databricks.v1+cell": {
     "cellMetadata": {},
     "inputWidgets": {},
     "nuid": "e015969d-732a-42de-9840-1e9aa0704484",
     "showTitle": false,
     "title": ""
    }
   },
   "source": [
    "#### Clean df.pin\n",
    "\n",
    "To clean the df_pin DataFrame the following cell will perform the following transformations:\n",
    "\n",
    "- Replace empty entries and entries with no relevant data in each column with Nones\n",
    "- Perform the necessary transformations on the follower_count to ensure every entry is a number. Make sure the data type of this column is an int.\n",
    "- Ensure that each column containing numeric data has a numeric data type\n",
    "- Clean the data in the save_location column to include only the save location path\n",
    "- Rename the index column to ind.\n",
    "- Reorder the DataFrame columns to have the following column order: (ind, unique_id, title, description, follower_count, poster_name, tag_list, is_image_or_video, image_src, save_location, category) "
   ]
  },
  {
   "cell_type": "code",
   "execution_count": 0,
   "metadata": {
    "application/vnd.databricks.v1+cell": {
     "cellMetadata": {},
     "inputWidgets": {},
     "nuid": "21491678-a815-4cb8-8370-20aa2e0a5028",
     "showTitle": false,
     "title": ""
    }
   },
   "outputs": [],
   "source": [
    "if __name__ == \"__main__\":\n",
    "    df_pin  = spark.table(\"global_temp.df_pin\")\n",
    "    data_cleaner = DataCleaning()\n",
    "    cleaned_df_pin = data_cleaner.clean_pin_data(df_pin)\n",
    "    cleaned_df_pin.createOrReplaceGlobalTempView(\"cleaned_df_pin\")"
   ]
  }
 ],
 "metadata": {
  "application/vnd.databricks.v1+notebook": {
   "dashboards": [],
   "language": "python",
   "notebookMetadata": {
    "pythonIndentUnit": 4
   },
   "notebookName": "airflow_clean_pin",
   "widgets": {}
  }
 },
 "nbformat": 4,
 "nbformat_minor": 0
}
