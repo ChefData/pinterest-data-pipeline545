{
 "cells": [
  {
   "cell_type": "markdown",
   "metadata": {
    "application/vnd.databricks.v1+cell": {
     "cellMetadata": {},
     "inputWidgets": {},
     "nuid": "2139b6e9-3a0d-4862-a057-6f129b39dff3",
     "showTitle": false,
     "title": ""
    }
   },
   "source": [
    "## Clean Geo Batch Data"
   ]
  },
  {
   "cell_type": "markdown",
   "metadata": {
    "application/vnd.databricks.v1+cell": {
     "cellMetadata": {},
     "inputWidgets": {},
     "nuid": "a1c11acf-da03-4934-94b6-ee43016d3b88",
     "showTitle": false,
     "title": ""
    }
   },
   "source": [
    "#### Import methods\n",
    "\n",
    "The following cell allows access to the methods from the DataCleaning class within the databricks_clean_data notebook"
   ]
  },
  {
   "cell_type": "code",
   "execution_count": 0,
   "metadata": {
    "application/vnd.databricks.v1+cell": {
     "cellMetadata": {},
     "inputWidgets": {},
     "nuid": "7d726781-0a8f-4e29-bb49-59808f12d4c8",
     "showTitle": false,
     "title": ""
    }
   },
   "outputs": [],
   "source": [
    "%run \"../classes/databricks_clean_data\""
   ]
  },
  {
   "cell_type": "markdown",
   "metadata": {
    "application/vnd.databricks.v1+cell": {
     "cellMetadata": {},
     "inputWidgets": {},
     "nuid": "da66c436-6f8b-4f0b-b6be-d02c6c8f8aa3",
     "showTitle": false,
     "title": ""
    }
   },
   "source": [
    "#### Clean df.geo\n",
    "\n",
    "To clean the df_geo DataFrame the follwoing cell will perform the following transformations:\n",
    "\n",
    "- Create a new column coordinates that contains an array based on the latitude and longitude columns\n",
    "- Drop the latitude and longitude columns from the DataFrame\n",
    "- Convert the timestamp column from a string to a timestamp data type\n",
    "- Reorder the DataFrame columns to have the following column order: (ind, country, coordinates, timestamp)\n"
   ]
  },
  {
   "cell_type": "code",
   "execution_count": 0,
   "metadata": {
    "application/vnd.databricks.v1+cell": {
     "cellMetadata": {},
     "inputWidgets": {},
     "nuid": "09ae3f24-b50b-4292-9bcb-42a344da96b7",
     "showTitle": false,
     "title": ""
    }
   },
   "outputs": [],
   "source": [
    "if __name__ == \"__main__\":\n",
    "    df_geo  = spark.table(\"global_temp.df_geo\")\n",
    "    data_cleaner = DataCleaning()\n",
    "    cleaned_df_geo = data_cleaner.clean_geo_data(df_geo)\n",
    "    cleaned_df_geo.createOrReplaceGlobalTempView(\"cleaned_df_geo\")"
   ]
  }
 ],
 "metadata": {
  "application/vnd.databricks.v1+notebook": {
   "dashboards": [],
   "language": "python",
   "notebookMetadata": {
    "pythonIndentUnit": 4
   },
   "notebookName": "airflow_clean_geo",
   "widgets": {}
  }
 },
 "nbformat": 4,
 "nbformat_minor": 0
}
