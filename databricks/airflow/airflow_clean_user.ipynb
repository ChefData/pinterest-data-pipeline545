{
 "cells": [
  {
   "cell_type": "markdown",
   "metadata": {
    "application/vnd.databricks.v1+cell": {
     "cellMetadata": {},
     "inputWidgets": {},
     "nuid": "350464a6-565c-4cef-8f64-de2bc5ee8eb9",
     "showTitle": false,
     "title": ""
    }
   },
   "source": [
    "## Clean User Batch Data"
   ]
  },
  {
   "cell_type": "markdown",
   "metadata": {
    "application/vnd.databricks.v1+cell": {
     "cellMetadata": {},
     "inputWidgets": {},
     "nuid": "ecbc3ccd-eb76-4de3-8ff4-28a11175a257",
     "showTitle": false,
     "title": ""
    }
   },
   "source": [
    "#### Import methods\n",
    "\n",
    "The following cell allows access to the methods from the DataCleaning class within the databricks_clean_data notebook"
   ]
  },
  {
   "cell_type": "code",
   "execution_count": 0,
   "metadata": {
    "application/vnd.databricks.v1+cell": {
     "cellMetadata": {},
     "inputWidgets": {},
     "nuid": "7cafabc8-eb45-411b-b94a-c3e9ad6005fe",
     "showTitle": false,
     "title": ""
    }
   },
   "outputs": [],
   "source": [
    "%run \"../classes/databricks_clean_data\""
   ]
  },
  {
   "cell_type": "markdown",
   "metadata": {
    "application/vnd.databricks.v1+cell": {
     "cellMetadata": {},
     "inputWidgets": {},
     "nuid": "504e6463-3f5c-491f-bdc3-99e978b2b121",
     "showTitle": false,
     "title": ""
    }
   },
   "source": [
    "#### Clean df.user\n",
    "\n",
    "To clean the df_user DataFrame the following cell will perform the following transformations:\n",
    "\n",
    "- Create a new column user_name that concatenates the information found in the first_name and last_name columns\n",
    "- Drop the first_name and last_name columns from the DataFrame\n",
    "- Convert the date_joined column from a string to a timestamp data type\n",
    "- Reorder the DataFrame columns to have the following column order: (ind, user_name, age, date_joined)\n"
   ]
  },
  {
   "cell_type": "code",
   "execution_count": 0,
   "metadata": {
    "application/vnd.databricks.v1+cell": {
     "cellMetadata": {},
     "inputWidgets": {},
     "nuid": "3788afca-33cd-477d-be37-ed7a0aa86f28",
     "showTitle": false,
     "title": ""
    }
   },
   "outputs": [],
   "source": [
    "if __name__ == \"__main__\":\n",
    "    df_user = spark.table(\"global_temp.df_user\")\n",
    "    data_cleaner = DataCleaning()\n",
    "    cleaned_df_user = data_cleaner.clean_user_data(df_user)\n",
    "    cleaned_df_user.createOrReplaceGlobalTempView(\"cleaned_df_user\")"
   ]
  }
 ],
 "metadata": {
  "application/vnd.databricks.v1+notebook": {
   "dashboards": [],
   "language": "python",
   "notebookMetadata": {
    "pythonIndentUnit": 4
   },
   "notebookName": "airflow_clean_user",
   "widgets": {}
  }
 },
 "nbformat": 4,
 "nbformat_minor": 0
}
