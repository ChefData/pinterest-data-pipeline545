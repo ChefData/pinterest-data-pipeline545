{
 "cells": [
  {
   "cell_type": "markdown",
   "metadata": {
    "application/vnd.databricks.v1+cell": {
     "cellMetadata": {},
     "inputWidgets": {},
     "nuid": "acbc8e8d-e507-4878-991c-30ca688c78d4",
     "showTitle": false,
     "title": ""
    }
   },
   "source": [
    "## Load Batch Data"
   ]
  },
  {
   "cell_type": "markdown",
   "metadata": {
    "application/vnd.databricks.v1+cell": {
     "cellMetadata": {},
     "inputWidgets": {},
     "nuid": "b0367615-bdd5-4b98-a4e5-aaef21972b28",
     "showTitle": false,
     "title": ""
    }
   },
   "source": [
    "#### Import methods \n",
    "\n",
    "The following cell allows access to the methods from the S3DataLoader class within the databricks_mount_data notebook."
   ]
  },
  {
   "cell_type": "code",
   "execution_count": 0,
   "metadata": {
    "application/vnd.databricks.v1+cell": {
     "cellMetadata": {},
     "inputWidgets": {},
     "nuid": "712b24e5-a5bf-4e80-a222-891082993276",
     "showTitle": false,
     "title": ""
    }
   },
   "outputs": [],
   "source": [
    "%run \"../classes/databricks_load_data\""
   ]
  },
  {
   "cell_type": "markdown",
   "metadata": {
    "application/vnd.databricks.v1+cell": {
     "cellMetadata": {},
     "inputWidgets": {},
     "nuid": "e0d9954f-6798-4581-9892-3a2782a6a6a0",
     "showTitle": false,
     "title": ""
    }
   },
   "source": [
    "#### Instantiate S3DataLoader\n",
    "\n",
    "The following cell instantiates the required variables for the S3DataLoader class."
   ]
  },
  {
   "cell_type": "code",
   "execution_count": 0,
   "metadata": {
    "application/vnd.databricks.v1+cell": {
     "cellMetadata": {},
     "inputWidgets": {},
     "nuid": "d55e1c3a-776b-442a-95a2-224a04154e51",
     "showTitle": false,
     "title": ""
    }
   },
   "outputs": [],
   "source": [
    "if __name__ == \"__main__\":\n",
    "    credentials_path = \"dbfs:/user/hive/warehouse/authentication_credentials\"\n",
    "    iam_username = \"0ab336d6fcf7\"\n",
    "    topics = ['pin', 'geo', 'user']\n",
    "    data_loader = S3DataLoader(credentials_path, iam_username, topics)"
   ]
  },
  {
   "cell_type": "markdown",
   "metadata": {
    "application/vnd.databricks.v1+cell": {
     "cellMetadata": {},
     "inputWidgets": {},
     "nuid": "bef6b675-7549-4567-80ca-1ce667aa6cd4",
     "showTitle": false,
     "title": ""
    }
   },
   "source": [
    "#### Load data"
   ]
  },
  {
   "cell_type": "code",
   "execution_count": 0,
   "metadata": {
    "application/vnd.databricks.v1+cell": {
     "cellMetadata": {},
     "inputWidgets": {},
     "nuid": "062b8001-f5bd-440e-8f27-93c68b0192d4",
     "showTitle": false,
     "title": ""
    }
   },
   "outputs": [],
   "source": [
    "if __name__ == \"__main__\":\n",
    "    data_loader.create_dataframes(mounted=False)"
   ]
  }
 ],
 "metadata": {
  "application/vnd.databricks.v1+notebook": {
   "dashboards": [],
   "language": "python",
   "notebookMetadata": {
    "pythonIndentUnit": 4
   },
   "notebookName": "airflow_load_data",
   "widgets": {}
  }
 },
 "nbformat": 4,
 "nbformat_minor": 0
}
