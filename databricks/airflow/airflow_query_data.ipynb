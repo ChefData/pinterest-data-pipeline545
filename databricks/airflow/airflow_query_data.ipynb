{
 "cells": [
  {
   "cell_type": "markdown",
   "metadata": {
    "application/vnd.databricks.v1+cell": {
     "cellMetadata": {},
     "inputWidgets": {},
     "nuid": "70ea01a4-cde1-4d6f-9d59-6ab0c11b0ecb",
     "showTitle": false,
     "title": ""
    }
   },
   "source": [
    "## Query Batch Data\n",
    "\n",
    "Before querieing the data the three dataframes (`df_pin`, `df_geo`, and `df_user`) are joined together on the common column heading `ind`.\n",
    "\n",
    "To make sure that `df_all` is a valid DataFrame it will be created and registered as a temporary table or view before executing any SQL queries. To do this `df_all` is registered as a temporary view using `df_all.createOrReplaceTempView(\"df_all\")`.\n",
    "\n",
    "However `df_all` is a non-Delta table with many small files. Therefore to improve the performance of queries, `df_all` has been converted to Delta. The new `df_all` table will accelerate queries."
   ]
  },
  {
   "cell_type": "code",
   "execution_count": 0,
   "metadata": {
    "application/vnd.databricks.v1+cell": {
     "cellMetadata": {},
     "inputWidgets": {},
     "nuid": "12fe605a-832d-4ce0-baa4-3c52d6d15c61",
     "showTitle": false,
     "title": ""
    }
   },
   "outputs": [],
   "source": [
    "if __name__ == \"__main__\":\n",
    "    cleaned_df_pin = spark.table(\"global_temp.cleaned_df_pin\")\n",
    "    cleaned_df_geo = spark.table(\"global_temp.cleaned_df_geo\")\n",
    "    cleaned_df_user = spark.table(\"global_temp.cleaned_df_user\")"
   ]
  },
  {
   "cell_type": "code",
   "execution_count": 0,
   "metadata": {
    "application/vnd.databricks.v1+cell": {
     "cellMetadata": {},
     "inputWidgets": {},
     "nuid": "b220c159-5e67-4039-b65d-dba38171962d",
     "showTitle": false,
     "title": ""
    }
   },
   "outputs": [],
   "source": [
    "from delta.tables import DeltaTable\n",
    "\n",
    "if __name__ == \"__main__\":\n",
    "    # Join the three dataframes\n",
    "    df_all = cleaned_df_pin.join(cleaned_df_geo, 'ind').join(cleaned_df_user, 'ind')\n",
    "\n",
    "    # Write the Delta table\n",
    "    delta_table_path = \"/delta/my_table/v1\"\n",
    "    df_all.write.format(\"delta\").mode(\"overwrite\").save(delta_table_path)\n",
    "\n",
    "    # Use DeltaTable API to optimise the Delta table\n",
    "    delta_table = DeltaTable.forPath(spark, delta_table_path)\n",
    "    delta_table.vacuum()\n",
    "    df_all = delta_table.toDF()\n",
    "\n",
    "    # Create a temperory table of the combined dataframes\n",
    "    df_all.createOrReplaceTempView(\"df_all\")\n"
   ]
  },
  {
   "cell_type": "markdown",
   "metadata": {
    "application/vnd.databricks.v1+cell": {
     "cellMetadata": {},
     "inputWidgets": {},
     "nuid": "45a272fa-912e-43c8-8aac-2af85dd2f0ae",
     "showTitle": false,
     "title": ""
    }
   },
   "source": [
    "#### Question 1: Find the most popular category in each country\n",
    "\n",
    "- Find the most popular Pinterest category people post to based on their country.\n",
    "- The query should return a DataFrame that contains the following columns: (country, category, category_count)\n"
   ]
  },
  {
   "cell_type": "code",
   "execution_count": 0,
   "metadata": {
    "application/vnd.databricks.v1+cell": {
     "cellMetadata": {},
     "inputWidgets": {},
     "nuid": "b22f44ba-98d3-45b9-9e93-dc4f34d8282a",
     "showTitle": false,
     "title": ""
    }
   },
   "outputs": [],
   "source": [
    "top_category_per_country = spark.sql(\"\"\"\n",
    "    WITH ranked_categories AS (\n",
    "        SELECT\n",
    "            country, \n",
    "            category, \n",
    "            COUNT(category) AS category_count, \n",
    "            RANK() OVER (PARTITION BY country ORDER BY count(category) DESC) AS category_rank \n",
    "        FROM df_all \n",
    "        GROUP BY country, category \n",
    "    ) \n",
    "    SELECT country, category, category_count \n",
    "    FROM ranked_categories \n",
    "    WHERE category_rank = 1 \n",
    "    ORDER BY country\n",
    "\"\"\")\n",
    "display(top_category_per_country)"
   ]
  },
  {
   "cell_type": "markdown",
   "metadata": {
    "application/vnd.databricks.v1+cell": {
     "cellMetadata": {},
     "inputWidgets": {},
     "nuid": "c6465a77-6f89-402d-a0b0-a54d65ff2484",
     "showTitle": false,
     "title": ""
    }
   },
   "source": [
    "#### Question 2: Find which was the most popular category each year\n",
    "\n",
    "- Find how many posts each category had between 2018 and 2022.\n",
    "- The query will return a DataFrame that contains the following columns: (post_year, category, category_count)\n"
   ]
  },
  {
   "cell_type": "code",
   "execution_count": 0,
   "metadata": {
    "application/vnd.databricks.v1+cell": {
     "cellMetadata": {},
     "inputWidgets": {},
     "nuid": "72fbbcc9-0284-45dd-b277-6cf38c73073f",
     "showTitle": false,
     "title": ""
    }
   },
   "outputs": [],
   "source": [
    "top_category_per_year = spark.sql(\"\"\"\n",
    "    WITH ranked_categories AS (\n",
    "        SELECT\n",
    "            category,\n",
    "            EXTRACT(YEAR FROM timestamp) AS post_year,\n",
    "            COUNT(category) AS category_count,\n",
    "            RANK() OVER (PARTITION BY EXTRACT(YEAR FROM timestamp) ORDER BY count(category) DESC) AS category_rank \n",
    "        FROM df_all \n",
    "        GROUP BY EXTRACT(YEAR FROM timestamp), category\n",
    "    )\n",
    "    SELECT post_year, category, category_count \n",
    "    FROM ranked_categories \n",
    "    WHERE category_rank = 1 AND post_year BETWEEN 2018 AND 2022\n",
    "    ORDER BY post_year\n",
    "\"\"\")\n",
    "display(top_category_per_year)"
   ]
  },
  {
   "cell_type": "markdown",
   "metadata": {
    "application/vnd.databricks.v1+cell": {
     "cellMetadata": {},
     "inputWidgets": {},
     "nuid": "4b45d59d-0b5e-4165-90c1-0e64c068720b",
     "showTitle": false,
     "title": ""
    }
   },
   "source": [
    "#### Question 3: Find the user with most followers in each country\n",
    "\n",
    "- Step 1: For each country find the user with the most followers.\n",
    "  - Your query should return a DataFrame that contains the following columns: (country, poster_name, follower_count)\n",
    "- Step 2: Based on the above query, find the country with the user with most followers.\n",
    "  - Your query should return a DataFrame that contains the following columns: (country, follower_count)\n",
    "  - This DataFrame should have only one entry."
   ]
  },
  {
   "cell_type": "code",
   "execution_count": 0,
   "metadata": {
    "application/vnd.databricks.v1+cell": {
     "cellMetadata": {},
     "inputWidgets": {},
     "nuid": "475ccbcb-29fb-4ba1-903a-8372f4292570",
     "showTitle": false,
     "title": ""
    }
   },
   "outputs": [],
   "source": [
    "# Step 1:\n",
    "top_user_per_country = spark.sql(\"\"\"\n",
    "    SELECT country, poster_name, MAX(follower_count) AS follower_count\n",
    "    FROM df_all\n",
    "    GROUP BY country, poster_name\n",
    "    ORDER BY follower_count DESC\n",
    "\"\"\")\n",
    "display(top_user_per_country)\n",
    "\n",
    "# Step 2:\n",
    "country_with_top_user = spark.sql(\"\"\"\n",
    "    WITH top_users AS (\n",
    "        SELECT country, poster_name, MAX(follower_count) AS follower_count\n",
    "        FROM df_all\n",
    "        GROUP BY country, poster_name\n",
    "        ORDER BY follower_count DESC\n",
    "    )\n",
    "    SELECT country, follower_count\n",
    "    FROM top_users\n",
    "    ORDER BY follower_count DESC\n",
    "    LIMIT 1\n",
    "\"\"\")\n",
    "display(country_with_top_user)\n"
   ]
  },
  {
   "cell_type": "markdown",
   "metadata": {
    "application/vnd.databricks.v1+cell": {
     "cellMetadata": {},
     "inputWidgets": {},
     "nuid": "4a79421f-9258-42f7-b979-75b4bf445034",
     "showTitle": false,
     "title": ""
    }
   },
   "source": [
    "#### Question 4: Find the most popular category for different age groups\n",
    "\n",
    "- What is the most popular category people post to based on the following age groups: (18-24, 25-35, 36-50, +50)\n",
    "- The query should return a DataFrame that contains the following columns: (age_group, category, category_count)"
   ]
  },
  {
   "cell_type": "code",
   "execution_count": 0,
   "metadata": {
    "application/vnd.databricks.v1+cell": {
     "cellMetadata": {},
     "inputWidgets": {},
     "nuid": "db7258d0-2e06-4817-8844-0b522378d96f",
     "showTitle": false,
     "title": ""
    }
   },
   "outputs": [],
   "source": [
    "top_category_per_age = spark.sql(\"\"\"\n",
    "    WITH age_groups AS (\n",
    "        SELECT \n",
    "            CASE \n",
    "                WHEN Age BETWEEN 18 AND 24 THEN '18-24'\n",
    "                WHEN Age BETWEEN 25 AND 35 THEN '25-35'\n",
    "                WHEN Age BETWEEN 36 AND 50 THEN '36-50'\n",
    "                WHEN Age >= 51 THEN '50+'\n",
    "                ELSE 'NA'\n",
    "            END AS age_group,\n",
    "            category, \n",
    "            COUNT(category) AS category_count\n",
    "        FROM df_all\n",
    "        GROUP BY age_group, category\n",
    "    ),\n",
    "    ranked_ages AS (\n",
    "        SELECT \n",
    "            age_group, \n",
    "            category, \n",
    "            category_count, \n",
    "            RANK() OVER (PARTITION BY age_group ORDER BY category_count DESC) AS category_rank\n",
    "        FROM age_groups\n",
    "    )\n",
    "    SELECT age_group, category, category_count\n",
    "    FROM ranked_ages\n",
    "    WHERE category_rank = 1\n",
    "\"\"\")\n",
    "display(top_category_per_age)\n"
   ]
  },
  {
   "cell_type": "markdown",
   "metadata": {
    "application/vnd.databricks.v1+cell": {
     "cellMetadata": {},
     "inputWidgets": {},
     "nuid": "d9716a05-3d88-4220-825b-b397802d3e18",
     "showTitle": false,
     "title": ""
    }
   },
   "source": [
    "#### Question 5: Find the median follower count for different age groups\n",
    "\n",
    "- What is the median follower count for users in the following age groups: (18-24, 25-35, 36-50, +50)\n",
    "- The query should return a DataFrame that contains the following columns: (age_group, median_follower_count)\n"
   ]
  },
  {
   "cell_type": "code",
   "execution_count": 0,
   "metadata": {
    "application/vnd.databricks.v1+cell": {
     "cellMetadata": {},
     "inputWidgets": {},
     "nuid": "841fa3ca-6505-4999-b11c-b09a93eb5b0e",
     "showTitle": false,
     "title": ""
    }
   },
   "outputs": [],
   "source": [
    "median_follower_per_age_group = spark.sql(\"\"\"\n",
    "    SELECT \n",
    "        CASE \n",
    "            WHEN Age BETWEEN 18 AND 24 THEN '18-24'\n",
    "            WHEN Age BETWEEN 25 AND 35 THEN '25-35'\n",
    "            WHEN Age BETWEEN 36 AND 50 THEN '36-50'\n",
    "            WHEN Age >= 51 then '50+'\n",
    "            ELSE 'NA'\n",
    "        End as age_group,\n",
    "        PERCENTILE_CONT(0.5) WITHIN GROUP (ORDER BY follower_count) AS median_follower_count \n",
    "    FROM df_all\n",
    "    GROUP BY age_group\n",
    "    ORDER BY median_follower_count DESC\n",
    "\"\"\")\n",
    "display(median_follower_per_age_group)                                                                "
   ]
  },
  {
   "cell_type": "markdown",
   "metadata": {
    "application/vnd.databricks.v1+cell": {
     "cellMetadata": {},
     "inputWidgets": {},
     "nuid": "83102e91-678f-4b34-8a53-b4bf7ab798e5",
     "showTitle": false,
     "title": ""
    }
   },
   "source": [
    "#### Question 6: Find how many users have joined each year?\n",
    "\n",
    "- Find how many users have joined between 2015 and 2020.\n",
    "- The query should return a DataFrame that contains the following columns: (post_year, number_users_joined)"
   ]
  },
  {
   "cell_type": "code",
   "execution_count": 0,
   "metadata": {
    "application/vnd.databricks.v1+cell": {
     "cellMetadata": {},
     "inputWidgets": {},
     "nuid": "2c948e05-c940-4b6e-90de-d848e61243ad",
     "showTitle": false,
     "title": ""
    }
   },
   "outputs": [],
   "source": [
    "users_joined_per_year = spark.sql(\"\"\"\n",
    "    SELECT\n",
    "        EXTRACT(YEAR FROM date_joined) AS post_year,\n",
    "        COUNT(DISTINCT(user_name)) AS number_users_joined\n",
    "    FROM df_all \n",
    "    WHERE EXTRACT(YEAR FROM date_joined) BETWEEN 2015 AND 2020\n",
    "    GROUP BY post_year\n",
    "\"\"\")\n",
    "display(users_joined_per_year)"
   ]
  },
  {
   "cell_type": "markdown",
   "metadata": {
    "application/vnd.databricks.v1+cell": {
     "cellMetadata": {},
     "inputWidgets": {},
     "nuid": "438a522e-28f9-4ce1-b4f3-58be92f6e21a",
     "showTitle": false,
     "title": ""
    }
   },
   "source": [
    "#### Question 7: Find the median follower count of users based on their joining year\n",
    "\n",
    "- Find the median follower count of users have joined between 2015 and 2020.\n",
    "- Your query should return a DataFrame that contains the following columns: (post_year, median_follower_count)"
   ]
  },
  {
   "cell_type": "code",
   "execution_count": 0,
   "metadata": {
    "application/vnd.databricks.v1+cell": {
     "cellMetadata": {},
     "inputWidgets": {},
     "nuid": "2303bdf6-7dd3-46f8-8aa6-78af9adfc48a",
     "showTitle": false,
     "title": ""
    }
   },
   "outputs": [],
   "source": [
    "median_follower_per_join_year = spark.sql(\"\"\"\n",
    "    SELECT\n",
    "        EXTRACT(YEAR FROM date_joined) AS post_year,\n",
    "        PERCENTILE_CONT(0.5) WITHIN GROUP (ORDER BY follower_count) AS median_follower_count\n",
    "    FROM df_all \n",
    "    WHERE EXTRACT(YEAR FROM date_joined) BETWEEN 2015 AND 2020\n",
    "    GROUP BY post_year\n",
    "\"\"\")\n",
    "display(median_follower_per_join_year)"
   ]
  },
  {
   "cell_type": "markdown",
   "metadata": {
    "application/vnd.databricks.v1+cell": {
     "cellMetadata": {},
     "inputWidgets": {},
     "nuid": "ec94f862-a117-43e0-9f5b-7319b63e8b79",
     "showTitle": false,
     "title": ""
    }
   },
   "source": [
    "#### Question 8: Find the median follower count of users based on their joining year and age group\n",
    "\n",
    "- Find the median follower count of users that have joined between 2015 and 2020, based on which age group they are part of.\n",
    "- The query should return a DataFrame that contains the following columns: (age_group, post_year, median_follower_count)"
   ]
  },
  {
   "cell_type": "code",
   "execution_count": 0,
   "metadata": {
    "application/vnd.databricks.v1+cell": {
     "cellMetadata": {},
     "inputWidgets": {},
     "nuid": "4d4cae59-77d6-44a0-a5c9-77fde3cf8945",
     "showTitle": false,
     "title": ""
    }
   },
   "outputs": [],
   "source": [
    "median_follower_per_join_year_age_group = spark.sql(\"\"\"\n",
    "    SELECT\n",
    "        CASE \n",
    "            WHEN Age BETWEEN 18 AND 24 THEN '18-24'\n",
    "            WHEN Age BETWEEN 25 AND 35 THEN '25-35'\n",
    "            WHEN Age BETWEEN 36 AND 50 THEN '36-50'\n",
    "            WHEN Age >= 51 then '50+'\n",
    "            ELSE 'NA'\n",
    "        End as age_group,\n",
    "        EXTRACT(YEAR FROM date_joined) AS post_year,\n",
    "        PERCENTILE_CONT(0.5) WITHIN GROUP (ORDER BY follower_count) AS median_follower_count\n",
    "    FROM df_all \n",
    "    WHERE EXTRACT(YEAR FROM date_joined) BETWEEN 2015 AND 2020\n",
    "    GROUP BY age_group, post_year\n",
    "    Order by age_group, post_year\n",
    "\"\"\")\n",
    "display(median_follower_per_join_year_age_group)"
   ]
  }
 ],
 "metadata": {
  "application/vnd.databricks.v1+notebook": {
   "dashboards": [],
   "language": "python",
   "notebookMetadata": {
    "pythonIndentUnit": 4
   },
   "notebookName": "airflow_query_data",
   "widgets": {}
  }
 },
 "nbformat": 4,
 "nbformat_minor": 0
}
