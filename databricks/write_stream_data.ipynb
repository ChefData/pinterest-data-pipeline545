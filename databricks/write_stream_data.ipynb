{
 "cells": [
  {
   "cell_type": "markdown",
   "metadata": {
    "application/vnd.databricks.v1+cell": {
     "cellMetadata": {
      "byteLimit": 2048000,
      "rowLimit": 10000
     },
     "inputWidgets": {},
     "nuid": "4a6b57d5-e267-4fe6-a4dd-fa1959fc5275",
     "showTitle": false,
     "title": ""
    }
   },
   "source": [
    "# Stream Data Processing using Kinesis on Databricks\n",
    "\n",
    "Kinesis Data Streams is a highly customisable AWS streaming solution. Highly customisable means that all parts involved with stream processing, such as data ingestion, monitoring, elasticity, and consumption are done programmatically when creating the stream.\n",
    "\n",
    "For this project three data streams were created using Kinesis Data Streams, one for each Pinterest table.\n",
    "\n",
    "- `streaming-0ab336d6fcf7-pin`\n",
    "- `streaming-0ab336d6fcf7-geo`\n",
    "- `streaming-0ab336d6fcf7-user`\n",
    "\n",
    "This notebook will clean the data from the three Kinesis Data Streams and write the data to Delta Tables. Within Databricks three Delta Tables will be created to hold this data:\n",
    "\n",
    "- `0ab336d6fcf7_pin_table` for the Pinterest post data\n",
    "- `0ab336d6fcf7_geo_table` for the geolocation data\n",
    "- `0ab336d6fcf7_user_table` for the user data.\n",
    "\n",
    "This notebook will falcitate the following procedures:\n",
    "\n",
    "- Load the stream data\n",
    "- Clean the stream data\n",
    "- Write the stream data to Delta Tables\n",
    "\n",
    "This notebook uses the ***loading*** methods and dataframe creation methods from the `databricks_load_data` notebook located in the `classes` folder.\n",
    "\n",
    "This notebook also uses the dataframe cleaning methods from the `databricks_clean_data` file also located in the `classes` folder."
   ]
  },
  {
   "cell_type": "markdown",
   "metadata": {
    "application/vnd.databricks.v1+cell": {
     "cellMetadata": {
      "byteLimit": 2048000,
      "rowLimit": 10000
     },
     "inputWidgets": {},
     "nuid": "4bd37a5e-47d5-4d71-9634-0591c194f8df",
     "showTitle": false,
     "title": ""
    }
   },
   "source": [
    "#### Import loading methods \n",
    "\n",
    "The following cell allows access to the methods from the `S3DataLoader` class within the `databricks_load_data` notebook."
   ]
  },
  {
   "cell_type": "code",
   "execution_count": 0,
   "metadata": {
    "application/vnd.databricks.v1+cell": {
     "cellMetadata": {
      "byteLimit": 2048000,
      "rowLimit": 10000
     },
     "inputWidgets": {},
     "nuid": "15169c21-d08f-4d6b-baa2-5525bcc4e438",
     "showTitle": false,
     "title": ""
    }
   },
   "outputs": [],
   "source": [
    "%run \"./classes/databricks_load_data\""
   ]
  },
  {
   "cell_type": "markdown",
   "metadata": {
    "application/vnd.databricks.v1+cell": {
     "cellMetadata": {
      "byteLimit": 2048000,
      "rowLimit": 10000
     },
     "inputWidgets": {},
     "nuid": "5feafbea-ae7f-4730-9ca0-9aba5087fee1",
     "showTitle": false,
     "title": ""
    }
   },
   "source": [
    "#### Import cleaning methods\n",
    "\n",
    "The following cell allows access to the methods from the `DataCleaning` class within the `databricks_clean_data` notebook"
   ]
  },
  {
   "cell_type": "code",
   "execution_count": 0,
   "metadata": {
    "application/vnd.databricks.v1+cell": {
     "cellMetadata": {
      "byteLimit": 2048000,
      "rowLimit": 10000
     },
     "inputWidgets": {},
     "nuid": "1c667da9-fe62-4fbc-a709-28d5858e3942",
     "showTitle": false,
     "title": ""
    }
   },
   "outputs": [],
   "source": [
    "%run \"./classes/databricks_clean_data\""
   ]
  },
  {
   "cell_type": "markdown",
   "metadata": {
    "application/vnd.databricks.v1+cell": {
     "cellMetadata": {
      "byteLimit": 2048000,
      "rowLimit": 10000
     },
     "inputWidgets": {},
     "nuid": "ebf6dc28-1211-4397-bb48-c710d75fe630",
     "showTitle": false,
     "title": ""
    }
   },
   "source": [
    "#### Instantiate S3DataLoader and DataCleaning\n",
    "\n",
    "The following cell instantiates the required variables for the `S3DataLoader` class and `DataCleaning` class."
   ]
  },
  {
   "cell_type": "code",
   "execution_count": 0,
   "metadata": {
    "application/vnd.databricks.v1+cell": {
     "cellMetadata": {
      "byteLimit": 2048000,
      "rowLimit": 10000
     },
     "inputWidgets": {},
     "nuid": "f3f6fb6e-a941-4dcf-9c7d-fa813dc2f8ab",
     "showTitle": false,
     "title": ""
    }
   },
   "outputs": [],
   "source": [
    "if __name__ == \"__main__\":\n",
    "    credentials_path = \"dbfs:/user/hive/warehouse/authentication_credentials\"\n",
    "    iam_username = \"0ab336d6fcf7\"\n",
    "    topics = ['pin', 'geo', 'user']\n",
    "    data_loader = S3DataLoader(credentials_path, iam_username, topics)\n",
    "    data_cleaner = DataCleaning()"
   ]
  },
  {
   "cell_type": "markdown",
   "metadata": {
    "application/vnd.databricks.v1+cell": {
     "cellMetadata": {
      "byteLimit": 2048000,
      "rowLimit": 10000
     },
     "inputWidgets": {},
     "nuid": "f4082137-b06f-47ba-94f7-f81b43a8e776",
     "showTitle": false,
     "title": ""
    }
   },
   "source": [
    "#### Create Dataframes\n",
    "\n",
    "The following cell will create three dataframes from the data stored in the S3 bucket."
   ]
  },
  {
   "cell_type": "code",
   "execution_count": 0,
   "metadata": {
    "application/vnd.databricks.v1+cell": {
     "cellMetadata": {
      "byteLimit": 2048000,
      "rowLimit": 10000
     },
     "inputWidgets": {},
     "nuid": "dbeb7e4c-8877-4570-8623-f99ffb3aa9b3",
     "showTitle": false,
     "title": ""
    }
   },
   "outputs": [],
   "source": [
    "if __name__ == \"__main__\":\n",
    "    data_loader.create_stream_dataframes()"
   ]
  },
  {
   "cell_type": "markdown",
   "metadata": {
    "application/vnd.databricks.v1+cell": {
     "cellMetadata": {
      "byteLimit": 2048000,
      "rowLimit": 10000
     },
     "inputWidgets": {},
     "nuid": "32515500-8eb7-4f5c-8491-7557489ee40f",
     "showTitle": false,
     "title": ""
    }
   },
   "source": [
    "## Clean Stream Data"
   ]
  },
  {
   "cell_type": "markdown",
   "metadata": {
    "application/vnd.databricks.v1+cell": {
     "cellMetadata": {
      "byteLimit": 2048000,
      "rowLimit": 10000
     },
     "inputWidgets": {},
     "nuid": "2d23dd2f-5b83-41f5-a0e3-7e3ca8993089",
     "showTitle": false,
     "title": ""
    }
   },
   "source": [
    "#### Clean df.pin\n",
    "\n",
    "To clean the `df_pin` DataFrame the following cell will perform the following transformations:\n",
    "\n",
    "- Replace empty entries and entries with no relevant data in each column with `Nones`\n",
    "- Perform the necessary transformations on the `follower_count` to ensure every entry is a number. Make sure the data type of this column is an `int`.\n",
    "- Ensure that each column containing numeric data has a `numeric` data type\n",
    "- Clean the data in the `save_location` column to include only the save location path\n",
    "- Rename the `index` column to `ind`.\n",
    "- Reorder the DataFrame columns to have the following column order: (`ind`, `unique_id`, `title`, `description`, `follower_count`, `poster_name`, `tag_list`, `is_image_or_video`, `image_src`, `save_location`, `category`) "
   ]
  },
  {
   "cell_type": "code",
   "execution_count": 0,
   "metadata": {
    "application/vnd.databricks.v1+cell": {
     "cellMetadata": {
      "byteLimit": 2048000,
      "rowLimit": 10000
     },
     "inputWidgets": {},
     "nuid": "7f8e7ebf-a8e2-4265-b032-8f1506eed0ac",
     "showTitle": false,
     "title": ""
    }
   },
   "outputs": [],
   "source": [
    "if __name__ == \"__main__\":\n",
    "    cleaned_df_pin = data_cleaner.clean_pin_data(df_pin)\n",
    "    print(\"Schema for original pin dataframe\")\n",
    "    df_pin.printSchema()\n",
    "    print(\"Schema for cleaned pin dataframe\")\n",
    "    cleaned_df_pin.printSchema()"
   ]
  },
  {
   "cell_type": "markdown",
   "metadata": {
    "application/vnd.databricks.v1+cell": {
     "cellMetadata": {
      "byteLimit": 2048000,
      "rowLimit": 10000
     },
     "inputWidgets": {},
     "nuid": "de3da26d-34ec-40ac-9b59-077345a0407f",
     "showTitle": false,
     "title": ""
    }
   },
   "source": [
    "#### Clean df.geo\n",
    "\n",
    "To clean the `df_geo` DataFrame the follwoing cell will perform the following transformations:\n",
    "\n",
    "- Create a new column `coordinates` that contains an array based on the `latitude` and `longitude` columns\n",
    "- Drop the `latitude` and `longitude` columns from the DataFrame\n",
    "- Convert the `timestamp` column from a `string` to a `timestamp` data type\n",
    "- Reorder the DataFrame columns to have the following column order: (`ind`, `country`, `coordinates`, `timestamp`)"
   ]
  },
  {
   "cell_type": "code",
   "execution_count": 0,
   "metadata": {
    "application/vnd.databricks.v1+cell": {
     "cellMetadata": {
      "byteLimit": 2048000,
      "rowLimit": 10000
     },
     "inputWidgets": {},
     "nuid": "a91b4ad9-82a6-4c65-9bc7-3fb578c223ba",
     "showTitle": false,
     "title": ""
    }
   },
   "outputs": [],
   "source": [
    "if __name__ == \"__main__\":\n",
    "    cleaned_df_geo = data_cleaner.clean_geo_data(df_geo)\n",
    "    print(\"Schema for original geo dataframe\")\n",
    "    df_geo.printSchema()\n",
    "    print(\"Schema for cleaned geo dataframe\")\n",
    "    cleaned_df_geo.printSchema()"
   ]
  },
  {
   "cell_type": "markdown",
   "metadata": {
    "application/vnd.databricks.v1+cell": {
     "cellMetadata": {
      "byteLimit": 2048000,
      "rowLimit": 10000
     },
     "inputWidgets": {},
     "nuid": "f6b709eb-d93e-4fb1-90b7-627d7d2964e7",
     "showTitle": false,
     "title": ""
    }
   },
   "source": [
    "#### Clean df.user\n",
    "\n",
    "To clean the `df_user` DataFrame the following cell will perform the following transformations:\n",
    "\n",
    "- Create a new column user_name that concatenates the information found in the `first_name` and `last_name` columns\n",
    "- Drop the `first_name` and `last_name` columns from the DataFrame\n",
    "- Convert the `date_joined` column from a `string` to a `timestamp` data type\n",
    "- Reorder the DataFrame columns to have the following column order: (`ind`, `user_name`, `age`, `date_joined`)\n"
   ]
  },
  {
   "cell_type": "code",
   "execution_count": 0,
   "metadata": {
    "application/vnd.databricks.v1+cell": {
     "cellMetadata": {
      "byteLimit": 2048000,
      "rowLimit": 10000
     },
     "inputWidgets": {},
     "nuid": "b8e0e76c-6e35-4eb6-a15e-0ad430b0598a",
     "showTitle": false,
     "title": ""
    }
   },
   "outputs": [],
   "source": [
    "if __name__ == \"__main__\":\n",
    "    cleaned_df_user = data_cleaner.clean_user_data(df_user)\n",
    "    print(\"Schema for original user dataframe\")\n",
    "    df_user.printSchema()\n",
    "    print(\"Schema for cleaned user dataframe\")\n",
    "    cleaned_df_user.printSchema()"
   ]
  },
  {
   "cell_type": "markdown",
   "metadata": {
    "application/vnd.databricks.v1+cell": {
     "cellMetadata": {
      "byteLimit": 2048000,
      "rowLimit": 10000
     },
     "inputWidgets": {},
     "nuid": "29698d3c-5ae6-4685-bf30-a9b6b74fdd84",
     "showTitle": false,
     "title": ""
    }
   },
   "source": [
    "## Write Stream Data"
   ]
  },
  {
   "cell_type": "markdown",
   "metadata": {
    "application/vnd.databricks.v1+cell": {
     "cellMetadata": {
      "byteLimit": 2048000,
      "rowLimit": 10000
     },
     "inputWidgets": {},
     "nuid": "7fe19887-638e-4b68-80fe-12a9452b6612",
     "showTitle": false,
     "title": ""
    }
   },
   "source": [
    "#### Clear checkpoint\n",
    "\n",
    "The .option(\"checkpointLocation\", \"/tmp/kinesis/_checkpoints/\") allows the previous state of a query to be recovered in case of failure. \n",
    "\n",
    "Before running the writeStream function again, the following cell will need activated to delete the checkpoint folder."
   ]
  },
  {
   "cell_type": "code",
   "execution_count": 0,
   "metadata": {
    "application/vnd.databricks.v1+cell": {
     "cellMetadata": {
      "byteLimit": 2048000,
      "rowLimit": 10000
     },
     "inputWidgets": {},
     "nuid": "398773a2-5c27-45fb-ba7d-734d1aeb3b35",
     "showTitle": false,
     "title": ""
    }
   },
   "outputs": [],
   "source": [
    "if __name__ == \"__main__\":\n",
    "    data_loader.clear_delta_tables()"
   ]
  },
  {
   "cell_type": "markdown",
   "metadata": {
    "application/vnd.databricks.v1+cell": {
     "cellMetadata": {
      "byteLimit": 2048000,
      "rowLimit": 10000
     },
     "inputWidgets": {},
     "nuid": "7eb3dace-4fb9-4260-898d-1bcacdab958b",
     "showTitle": false,
     "title": ""
    }
   },
   "source": [
    "#### Write the streaming data to Delta Tables\n",
    "\n",
    "Once the streaming data has been cleaned, each stream will be saved in a Delta Table:\n",
    "\n",
    "- `0ab336d6fcf7_pin_table` for the Pinterest post data\n",
    "- `0ab336d6fcf7_geo_table` for the geolocation data\n",
    "- `0ab336d6fcf7_user_table` for the user data."
   ]
  },
  {
   "cell_type": "code",
   "execution_count": 0,
   "metadata": {
    "application/vnd.databricks.v1+cell": {
     "cellMetadata": {
      "byteLimit": 2048000,
      "rowLimit": 10000
     },
     "inputWidgets": {},
     "nuid": "0b050197-bff3-42d4-9a34-81c788d86eb9",
     "showTitle": false,
     "title": ""
    }
   },
   "outputs": [],
   "source": [
    "if __name__ == \"__main__\":\n",
    "    data_loader.write_stream(cleaned_df_pin)\n",
    "    data_loader.write_stream(cleaned_df_geo)\n",
    "    data_loader.write_stream(cleaned_df_user)"
   ]
  }
 ],
 "metadata": {
  "application/vnd.databricks.v1+notebook": {
   "dashboards": [],
   "language": "python",
   "notebookMetadata": {
    "pythonIndentUnit": 4
   },
   "notebookName": "write_stream_data",
   "widgets": {}
  }
 },
 "nbformat": 4,
 "nbformat_minor": 0
}
