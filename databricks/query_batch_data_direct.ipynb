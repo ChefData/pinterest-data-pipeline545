{
 "cells": [
  {
   "cell_type": "markdown",
   "metadata": {
    "application/vnd.databricks.v1+cell": {
     "cellMetadata": {
      "byteLimit": 2048000,
      "rowLimit": 10000
     },
     "inputWidgets": {},
     "nuid": "40c7d2c4-debd-4a9f-9842-834a24363106",
     "showTitle": false,
     "title": ""
    }
   },
   "source": [
    "# Batch Data Processing using Spark on Databricks\n",
    "\n",
    "Apache Spark is a powerful open-source distributed computing system that provides fast and general-purpose cluster computing for big data processing.\n",
    "\n",
    "Databricks, on the other hand, is a cloud-based platform built on top of Apache Spark, making it easier to deploy and manage Spark clusters. \n",
    "Databricks provides a unified analytics platform that can process large amounts of data quickly. \n",
    "Databricks provides an optimised and managed Spark environment.\n",
    "\n",
    "To clean and query the data from the three Kafka topics, the S3 bucket will be mounted to a Databricks account. Within Databricks three DataFrames will be created to hold this data:\n",
    "\n",
    "- `df_pin` for the Pinterest post data\n",
    "- `df_geo` for the geolocation data\n",
    "- `df_user` for the user data.\n",
    "\n",
    "This notebook will falcitate the following procedures:\n",
    "\n",
    "- Load the batch data\n",
    "- Clean the batch data\n",
    "- Query the batch data\n",
    "\n",
    "This notebook uses the ***loading*** methods and dataframe creation methods from the `databricks_load_data` notebook located in the `classes` folder.\n",
    "\n",
    "This notebook also uses the dataframe cleaning methods from the `databricks_clean_data` file also located in the `classes` folder."
   ]
  },
  {
   "cell_type": "markdown",
   "metadata": {
    "application/vnd.databricks.v1+cell": {
     "cellMetadata": {
      "byteLimit": 2048000,
      "rowLimit": 10000
     },
     "inputWidgets": {},
     "nuid": "acb01be9-ecf3-4289-ac44-c94ba0adc116",
     "showTitle": false,
     "title": ""
    }
   },
   "source": [
    "#### Import loading methods \n",
    "\n",
    "The following cell allows access to the methods from the `S3DataLoader` class within the `databricks_load_data` notebook."
   ]
  },
  {
   "cell_type": "code",
   "execution_count": 0,
   "metadata": {
    "application/vnd.databricks.v1+cell": {
     "cellMetadata": {
      "byteLimit": 2048000,
      "rowLimit": 10000
     },
     "inputWidgets": {},
     "nuid": "160d460e-a7e7-4989-9419-8ec863980379",
     "showTitle": false,
     "title": ""
    }
   },
   "outputs": [],
   "source": [
    "%run \"./classes/databricks_load_data\""
   ]
  },
  {
   "cell_type": "markdown",
   "metadata": {
    "application/vnd.databricks.v1+cell": {
     "cellMetadata": {
      "byteLimit": 2048000,
      "rowLimit": 10000
     },
     "inputWidgets": {},
     "nuid": "3f45b330-b7e8-4723-a3c4-a86a19dcd864",
     "showTitle": false,
     "title": ""
    }
   },
   "source": [
    "#### Import cleaning methods\n",
    "\n",
    "The following cell allows access to the methods from the `DataCleaning` class within the `databricks_clean_data` notebook"
   ]
  },
  {
   "cell_type": "code",
   "execution_count": 0,
   "metadata": {
    "application/vnd.databricks.v1+cell": {
     "cellMetadata": {
      "byteLimit": 2048000,
      "rowLimit": 10000
     },
     "inputWidgets": {},
     "nuid": "c3674449-6af0-49b4-adc5-1afcd7da6ed6",
     "showTitle": false,
     "title": ""
    }
   },
   "outputs": [],
   "source": [
    "%run \"./classes/databricks_clean_data\""
   ]
  },
  {
   "cell_type": "markdown",
   "metadata": {
    "application/vnd.databricks.v1+cell": {
     "cellMetadata": {
      "byteLimit": 2048000,
      "rowLimit": 10000
     },
     "inputWidgets": {},
     "nuid": "1f944166-2ee1-4c4a-bdd8-435fed229149",
     "showTitle": false,
     "title": ""
    }
   },
   "source": [
    "#### Instantiate S3DataLoader and DataCleaning\n",
    "\n",
    "The following cell instantiates the required variables for the `S3DataLoader` class and `DataCleaning` class."
   ]
  },
  {
   "cell_type": "code",
   "execution_count": 0,
   "metadata": {
    "application/vnd.databricks.v1+cell": {
     "cellMetadata": {
      "byteLimit": 2048000,
      "rowLimit": 10000
     },
     "inputWidgets": {},
     "nuid": "f5dd00d6-5239-4e3b-b4e1-b4c2dcad2078",
     "showTitle": false,
     "title": ""
    }
   },
   "outputs": [],
   "source": [
    "if __name__ == \"__main__\":\n",
    "    credentials_path = \"dbfs:/user/hive/warehouse/authentication_credentials\"\n",
    "    iam_username = \"0ab336d6fcf7\"\n",
    "    topics = ['pin', 'geo', 'user']\n",
    "    data_loader = S3DataLoader(credentials_path, iam_username, topics)\n",
    "    data_cleaner = DataCleaning()"
   ]
  },
  {
   "cell_type": "markdown",
   "metadata": {
    "application/vnd.databricks.v1+cell": {
     "cellMetadata": {
      "byteLimit": 2048000,
      "rowLimit": 10000
     },
     "inputWidgets": {},
     "nuid": "fd06faab-6b0f-44c5-859a-2fa8f61d3363",
     "showTitle": false,
     "title": ""
    }
   },
   "source": [
    "## Load Batch Data\n",
    "\n",
    "Databricks no longer recommends mounting external data locations to Databricks Filesystem.\n",
    "\n",
    "This notebook has been supplyed as an alternative method to accessing the data."
   ]
  },
  {
   "cell_type": "markdown",
   "metadata": {
    "application/vnd.databricks.v1+cell": {
     "cellMetadata": {
      "byteLimit": 2048000,
      "rowLimit": 10000
     },
     "inputWidgets": {},
     "nuid": "fe224830-bc4e-4977-b36c-3236373f05f8",
     "showTitle": false,
     "title": ""
    }
   },
   "source": [
    "#### Create Dataframes\n",
    "\n",
    "The following cell will create three dataframes from the data stored in the S3 bucket."
   ]
  },
  {
   "cell_type": "code",
   "execution_count": 0,
   "metadata": {
    "application/vnd.databricks.v1+cell": {
     "cellMetadata": {
      "byteLimit": 2048000,
      "rowLimit": 10000
     },
     "inputWidgets": {},
     "nuid": "f9b45218-6535-4004-b30c-4242db2639ec",
     "showTitle": false,
     "title": ""
    }
   },
   "outputs": [],
   "source": [
    "if __name__ == \"__main__\":\n",
    "    data_loader.create_dataframes(mounted=False)"
   ]
  },
  {
   "cell_type": "markdown",
   "metadata": {
    "application/vnd.databricks.v1+cell": {
     "cellMetadata": {
      "byteLimit": 2048000,
      "rowLimit": 10000
     },
     "inputWidgets": {},
     "nuid": "7adc6e57-91c9-4d9b-87e9-57ca0b1243be",
     "showTitle": false,
     "title": ""
    }
   },
   "source": [
    "## Clean Batch Data"
   ]
  },
  {
   "cell_type": "markdown",
   "metadata": {
    "application/vnd.databricks.v1+cell": {
     "cellMetadata": {
      "byteLimit": 2048000,
      "rowLimit": 10000
     },
     "inputWidgets": {},
     "nuid": "8fd75d80-6365-47b6-a70b-16521c308312",
     "showTitle": false,
     "title": ""
    }
   },
   "source": [
    "#### Clean df.pin\n",
    "\n",
    "To clean the `df_pin` DataFrame the following cell will perform the following transformations:\n",
    "\n",
    "- Replace empty entries and entries with no relevant data in each column with `Nones`\n",
    "- Perform the necessary transformations on the `follower_count` to ensure every entry is a number. Make sure the data type of this column is an `int`.\n",
    "- Ensure that each column containing numeric data has a `numeric` data type\n",
    "- Clean the data in the `save_location` column to include only the save location path\n",
    "- Rename the `index` column to `ind`.\n",
    "- Reorder the DataFrame columns to have the following column order: (`ind`, `unique_id`, `title`, `description`, `follower_count`, `poster_name`, `tag_list`, `is_image_or_video`, `image_src`, `save_location`, `category`) "
   ]
  },
  {
   "cell_type": "code",
   "execution_count": 0,
   "metadata": {
    "application/vnd.databricks.v1+cell": {
     "cellMetadata": {
      "byteLimit": 2048000,
      "rowLimit": 10000
     },
     "inputWidgets": {},
     "nuid": "7ebcd7a9-a266-418b-acb1-9b2fb8c9abee",
     "showTitle": false,
     "title": ""
    }
   },
   "outputs": [],
   "source": [
    "if __name__ == \"__main__\":\n",
    "    cleaned_df_pin = data_cleaner.clean_pin_data(df_pin)\n",
    "\n",
    "    print(\"Schema for original dataframe\")\n",
    "    df_pin.printSchema()\n",
    "    print(\"Schema for cleaned dataframe\")\n",
    "    cleaned_df_pin.printSchema()\n",
    "\n",
    "    print(\"Original dataframe:\")\n",
    "    display(df_pin)\n",
    "    print(\"Cleaned dataframe:\")\n",
    "    display(cleaned_df_pin)"
   ]
  },
  {
   "cell_type": "markdown",
   "metadata": {
    "application/vnd.databricks.v1+cell": {
     "cellMetadata": {
      "byteLimit": 2048000,
      "rowLimit": 10000
     },
     "inputWidgets": {},
     "nuid": "80ac29b9-5421-4c48-bdf2-73968eb6605f",
     "showTitle": false,
     "title": ""
    }
   },
   "source": [
    "#### Clean df.geo\n",
    "\n",
    "To clean the `df_geo` DataFrame the follwoing cell will perform the following transformations:\n",
    "\n",
    "- Create a new column `coordinates` that contains an array based on the `latitude` and `longitude` columns\n",
    "- Drop the `latitude` and `longitude` columns from the DataFrame\n",
    "- Convert the `timestamp` column from a `string` to a `timestamp` data type\n",
    "- Reorder the DataFrame columns to have the following column order: (`ind`, `country`, `coordinates`, `timestamp`)"
   ]
  },
  {
   "cell_type": "code",
   "execution_count": 0,
   "metadata": {
    "application/vnd.databricks.v1+cell": {
     "cellMetadata": {
      "byteLimit": 2048000,
      "rowLimit": 10000
     },
     "inputWidgets": {},
     "nuid": "83cb83e1-0517-4c71-9aca-8ebe19fe4dcf",
     "showTitle": false,
     "title": ""
    }
   },
   "outputs": [],
   "source": [
    "if __name__ == \"__main__\":\n",
    "    cleaned_df_geo = data_cleaner.clean_geo_data(df_geo)\n",
    "\n",
    "    print(\"Schema for original dataframe\")\n",
    "    df_geo.printSchema()\n",
    "    print(\"Schema for cleaned dataframe\")\n",
    "    cleaned_df_geo.printSchema()\n",
    "\n",
    "    print(\"Original dataframe:\")\n",
    "    display(df_geo)\n",
    "    print(\"Cleaned dataframe:\")\n",
    "    display(cleaned_df_geo)"
   ]
  },
  {
   "cell_type": "markdown",
   "metadata": {
    "application/vnd.databricks.v1+cell": {
     "cellMetadata": {
      "byteLimit": 2048000,
      "rowLimit": 10000
     },
     "inputWidgets": {},
     "nuid": "4b4ab98d-720a-4177-bbc6-0c52435b1af9",
     "showTitle": false,
     "title": ""
    }
   },
   "source": [
    "#### Clean df.user\n",
    "\n",
    "To clean the `df_user` DataFrame the following cell will perform the following transformations:\n",
    "\n",
    "- Create a new column user_name that concatenates the information found in the `first_name` and `last_name` columns\n",
    "- Drop the `first_name` and `last_name` columns from the DataFrame\n",
    "- Convert the `date_joined` column from a `string` to a `timestamp` data type\n",
    "- Reorder the DataFrame columns to have the following column order: (`ind`, `user_name`, `age`, `date_joined`)\n"
   ]
  },
  {
   "cell_type": "code",
   "execution_count": 0,
   "metadata": {
    "application/vnd.databricks.v1+cell": {
     "cellMetadata": {
      "byteLimit": 2048000,
      "rowLimit": 10000
     },
     "inputWidgets": {},
     "nuid": "375c5956-033f-4bf8-8f47-04446fea1673",
     "showTitle": false,
     "title": ""
    }
   },
   "outputs": [],
   "source": [
    "if __name__ == \"__main__\":\n",
    "    cleaned_df_user = data_cleaner.clean_user_data(df_user)\n",
    "\n",
    "    print(\"Schema for original dataframe\")\n",
    "    df_user.printSchema()\n",
    "    print(\"Schema for cleaned dataframe\")\n",
    "    cleaned_df_user.printSchema()\n",
    "    \n",
    "    print(\"Original dataframe:\")\n",
    "    display(df_user)\n",
    "    print(\"Cleaned dataframe:\")\n",
    "    display(cleaned_df_user)"
   ]
  },
  {
   "cell_type": "markdown",
   "metadata": {
    "application/vnd.databricks.v1+cell": {
     "cellMetadata": {
      "byteLimit": 2048000,
      "rowLimit": 10000
     },
     "inputWidgets": {},
     "nuid": "b0ad915a-48bc-4f59-8ec6-e1d9cce2e11b",
     "showTitle": false,
     "title": ""
    }
   },
   "source": [
    "## Query Batch Data\n",
    "\n",
    "Before querieing the data the three dataframes (`df_pin`, `df_geo`, and `df_user`) are joined together on the common column heading `ind`.\n",
    "\n",
    "To make sure that `df_all` is a valid DataFrame it will be created and registered as a temporary table or view before executing any SQL queries. To do this `df_all` is registered as a temporary view using `df_all.createOrReplaceTempView(\"df_all\")`.\n",
    "\n",
    "However `df_all` is a non-Delta table with many small files. Therefore to improve the performance of queries, `df_all` has been converted to Delta. The new `df_all` table will accelerate queries."
   ]
  },
  {
   "cell_type": "code",
   "execution_count": 0,
   "metadata": {
    "application/vnd.databricks.v1+cell": {
     "cellMetadata": {
      "byteLimit": 2048000,
      "rowLimit": 10000
     },
     "inputWidgets": {},
     "nuid": "18f9da3a-4411-4068-942d-d996803b408e",
     "showTitle": false,
     "title": ""
    }
   },
   "outputs": [],
   "source": [
    "if __name__ == \"__main__\":\n",
    "    # Join the three dataframes\n",
    "    df_all = cleaned_df_pin.join(cleaned_df_geo, 'ind').join(cleaned_df_user, 'ind')\n",
    "\n",
    "    # Write the Delta table\n",
    "    delta_table_path = \"/delta/my_table/v1\"\n",
    "    df_all.write.format(\"delta\").mode(\"overwrite\").save(delta_table_path)\n",
    "\n",
    "    # Use DeltaTable API to optimize the Delta table\n",
    "    delta_table = DeltaTable.forPath(spark, delta_table_path)\n",
    "    delta_table.vacuum()\n",
    "    df_all = delta_table.toDF()\n",
    "\n",
    "    # Create a temperory table of the combined dataframes\n",
    "    df_all.createOrReplaceTempView(\"df_all\")\n",
    "\n",
    "    # Display the optimized Delta tables\n",
    "    display(df_all)"
   ]
  },
  {
   "cell_type": "markdown",
   "metadata": {
    "application/vnd.databricks.v1+cell": {
     "cellMetadata": {
      "byteLimit": 2048000,
      "rowLimit": 10000
     },
     "inputWidgets": {},
     "nuid": "9bdfd9f6-4d46-49e0-861c-245c3db86cbc",
     "showTitle": false,
     "title": ""
    }
   },
   "source": [
    "#### Question 1: Find the most popular category in each country\n",
    "\n",
    "- Find the most popular Pinterest category people post to based on their country.\n",
    "- The query should return a DataFrame that contains the following columns: (`country`, `category`, `category_count`)\n"
   ]
  },
  {
   "cell_type": "code",
   "execution_count": 0,
   "metadata": {
    "application/vnd.databricks.v1+cell": {
     "cellMetadata": {
      "byteLimit": 2048000,
      "rowLimit": 10000
     },
     "inputWidgets": {},
     "nuid": "07eede9b-7447-459c-96c4-b21d2a8f45ba",
     "showTitle": false,
     "title": ""
    }
   },
   "outputs": [],
   "source": [
    "top_category_per_country = spark.sql(\"\"\"\n",
    "    WITH ranked_categories AS (\n",
    "        SELECT\n",
    "            country, \n",
    "            category, \n",
    "            COUNT(category) AS category_count, \n",
    "            RANK() OVER (PARTITION BY country ORDER BY count(category) DESC) AS category_rank \n",
    "        FROM df_all \n",
    "        GROUP BY country, category \n",
    "    ) \n",
    "    SELECT country, category, category_count \n",
    "    FROM ranked_categories \n",
    "    WHERE category_rank = 1 \n",
    "    ORDER BY country\n",
    "\"\"\")\n",
    "display(top_category_per_country)"
   ]
  },
  {
   "cell_type": "markdown",
   "metadata": {
    "application/vnd.databricks.v1+cell": {
     "cellMetadata": {
      "byteLimit": 2048000,
      "rowLimit": 10000
     },
     "inputWidgets": {},
     "nuid": "46c7c81b-628a-4517-97d5-1692dc5efb12",
     "showTitle": false,
     "title": ""
    }
   },
   "source": [
    "#### Question 2: Find which was the most popular category each year\n",
    "\n",
    "- Find how many posts each category had between 2018 and 2022.\n",
    "- The query will return a DataFrame that contains the following columns: (`post_year`, `category`, `category_count`)\n"
   ]
  },
  {
   "cell_type": "code",
   "execution_count": 0,
   "metadata": {
    "application/vnd.databricks.v1+cell": {
     "cellMetadata": {
      "byteLimit": 2048000,
      "rowLimit": 10000
     },
     "inputWidgets": {},
     "nuid": "f5582e6f-7f4c-4724-b519-ea87617e5c88",
     "showTitle": false,
     "title": ""
    }
   },
   "outputs": [],
   "source": [
    "top_category_per_year = spark.sql(\"\"\"\n",
    "    WITH ranked_categories AS (\n",
    "        SELECT\n",
    "            category,\n",
    "            EXTRACT(YEAR FROM timestamp) AS post_year,\n",
    "            COUNT(category) AS category_count,\n",
    "            RANK() OVER (PARTITION BY EXTRACT(YEAR FROM timestamp) ORDER BY count(category) DESC) AS category_rank \n",
    "        FROM df_all \n",
    "        GROUP BY EXTRACT(YEAR FROM timestamp), category\n",
    "    )\n",
    "    SELECT post_year, category, category_count \n",
    "    FROM ranked_categories \n",
    "    WHERE category_rank = 1 AND post_year BETWEEN 2018 AND 2022\n",
    "    ORDER BY post_year\n",
    "\"\"\")\n",
    "display(top_category_per_year)"
   ]
  },
  {
   "cell_type": "markdown",
   "metadata": {
    "application/vnd.databricks.v1+cell": {
     "cellMetadata": {
      "byteLimit": 2048000,
      "rowLimit": 10000
     },
     "inputWidgets": {},
     "nuid": "2ab29f28-b19a-422a-86c1-47928737315d",
     "showTitle": false,
     "title": ""
    }
   },
   "source": [
    "#### Question 3: Find the user with most followers in each country\n",
    "\n",
    "- Step 1: For each country find the user with the most followers.\n",
    "  - Your query should return a DataFrame that contains the following columns: (`country`, `poster_name`, `follower_count`)\n",
    "- Step 2: Based on the above query, find the country with the user with most followers.\n",
    "  - Your query should return a DataFrame that contains the following columns: (`country`, `follower_count`)\n",
    "  - This DataFrame should have only one entry."
   ]
  },
  {
   "cell_type": "code",
   "execution_count": 0,
   "metadata": {
    "application/vnd.databricks.v1+cell": {
     "cellMetadata": {
      "byteLimit": 2048000,
      "rowLimit": 10000
     },
     "inputWidgets": {},
     "nuid": "ccb08d35-8e3a-4578-84dd-25b206ba24a7",
     "showTitle": false,
     "title": ""
    }
   },
   "outputs": [],
   "source": [
    "# Step 1:\n",
    "top_user_per_country = spark.sql(\"\"\"\n",
    "    SELECT country, poster_name, MAX(follower_count) AS follower_count\n",
    "    FROM df_all\n",
    "    GROUP BY country, poster_name\n",
    "    ORDER BY follower_count DESC\n",
    "\"\"\")\n",
    "display(top_user_per_country)\n",
    "\n",
    "# Step 2:\n",
    "country_with_top_user = spark.sql(\"\"\"\n",
    "    WITH top_users AS (\n",
    "        SELECT country, poster_name, MAX(follower_count) AS follower_count\n",
    "        FROM df_all\n",
    "        GROUP BY country, poster_name\n",
    "        ORDER BY follower_count DESC\n",
    "    )\n",
    "    SELECT country, follower_count\n",
    "    FROM top_users\n",
    "    ORDER BY follower_count DESC\n",
    "    LIMIT 1\n",
    "\"\"\")\n",
    "display(country_with_top_user)\n"
   ]
  },
  {
   "cell_type": "markdown",
   "metadata": {
    "application/vnd.databricks.v1+cell": {
     "cellMetadata": {
      "byteLimit": 2048000,
      "rowLimit": 10000
     },
     "inputWidgets": {},
     "nuid": "2f559088-48b2-4b9b-a5a9-a6aff817b568",
     "showTitle": false,
     "title": ""
    }
   },
   "source": [
    "#### Question 4: Find the most popular category for different age groups\n",
    "\n",
    "- What is the most popular category people post to based on the following age groups: (`18-24`, `25-35`, `36-50`, `+50`)\n",
    "- The query should return a DataFrame that contains the following columns: (`age_group`, `category`, `category_count`)"
   ]
  },
  {
   "cell_type": "code",
   "execution_count": 0,
   "metadata": {
    "application/vnd.databricks.v1+cell": {
     "cellMetadata": {
      "byteLimit": 2048000,
      "rowLimit": 10000
     },
     "inputWidgets": {},
     "nuid": "de110883-01ea-48c0-9599-7185ad2be5cb",
     "showTitle": false,
     "title": ""
    }
   },
   "outputs": [],
   "source": [
    "top_category_per_age = spark.sql(\"\"\"\n",
    "    WITH age_groups AS (\n",
    "        SELECT \n",
    "            CASE \n",
    "                WHEN Age BETWEEN 18 AND 24 THEN '18-24'\n",
    "                WHEN Age BETWEEN 25 AND 35 THEN '25-35'\n",
    "                WHEN Age BETWEEN 36 AND 50 THEN '36-50'\n",
    "                WHEN Age >= 51 THEN '50+'\n",
    "                ELSE 'NA'\n",
    "            END AS age_group,\n",
    "            category, \n",
    "            COUNT(category) AS category_count\n",
    "        FROM df_all\n",
    "        GROUP BY age_group, category\n",
    "    ),\n",
    "    ranked_ages AS (\n",
    "        SELECT \n",
    "            age_group, \n",
    "            category, \n",
    "            category_count, \n",
    "            RANK() OVER (PARTITION BY age_group ORDER BY category_count DESC) AS category_rank\n",
    "        FROM age_groups\n",
    "    )\n",
    "    SELECT age_group, category, category_count\n",
    "    FROM ranked_ages\n",
    "    WHERE category_rank = 1\n",
    "\"\"\")\n",
    "display(top_category_per_age)\n"
   ]
  },
  {
   "cell_type": "markdown",
   "metadata": {
    "application/vnd.databricks.v1+cell": {
     "cellMetadata": {
      "byteLimit": 2048000,
      "rowLimit": 10000
     },
     "inputWidgets": {},
     "nuid": "8212cbe5-5565-4508-9121-24e7e7d53a96",
     "showTitle": false,
     "title": ""
    }
   },
   "source": [
    "#### Question 5: Find the median follower count for different age groups\n",
    "\n",
    "- What is the median follower count for users in the following age groups: (`18-24`, `25-35`, `36-50`, `+50`)\n",
    "- The query should return a DataFrame that contains the following columns: (`age_group`, `median_follower_count`)\n"
   ]
  },
  {
   "cell_type": "code",
   "execution_count": 0,
   "metadata": {
    "application/vnd.databricks.v1+cell": {
     "cellMetadata": {
      "byteLimit": 2048000,
      "rowLimit": 10000
     },
     "inputWidgets": {},
     "nuid": "ec568dc3-c647-4bb8-ab2e-fc86cbd44913",
     "showTitle": false,
     "title": ""
    }
   },
   "outputs": [],
   "source": [
    "median_follower_per_age_group = spark.sql(\"\"\"\n",
    "    SELECT \n",
    "        CASE \n",
    "            WHEN Age BETWEEN 18 AND 24 THEN '18-24'\n",
    "            WHEN Age BETWEEN 25 AND 35 THEN '25-35'\n",
    "            WHEN Age BETWEEN 36 AND 50 THEN '36-50'\n",
    "            WHEN Age >= 51 then '50+'\n",
    "            ELSE 'NA'\n",
    "        End as age_group,\n",
    "        PERCENTILE_CONT(0.5) WITHIN GROUP (ORDER BY follower_count) AS median_follower_count \n",
    "    FROM df_all\n",
    "    GROUP BY age_group\n",
    "    ORDER BY median_follower_count DESC\n",
    "\"\"\")\n",
    "display(median_follower_per_age_group)                                                                "
   ]
  },
  {
   "cell_type": "markdown",
   "metadata": {
    "application/vnd.databricks.v1+cell": {
     "cellMetadata": {
      "byteLimit": 2048000,
      "rowLimit": 10000
     },
     "inputWidgets": {},
     "nuid": "b8df0a7d-964d-48f5-9561-ff2cff4e4054",
     "showTitle": false,
     "title": ""
    }
   },
   "source": [
    "#### Question 6: Find how many users have joined each year?\n",
    "\n",
    "- Find how many users have joined between 2015 and 2020.\n",
    "- The query should return a DataFrame that contains the following columns: (`post_year`, `number_users_joined`)"
   ]
  },
  {
   "cell_type": "code",
   "execution_count": 0,
   "metadata": {
    "application/vnd.databricks.v1+cell": {
     "cellMetadata": {
      "byteLimit": 2048000,
      "rowLimit": 10000
     },
     "inputWidgets": {},
     "nuid": "a1020cbd-1f16-43a0-80b4-14988e6a710e",
     "showTitle": false,
     "title": ""
    }
   },
   "outputs": [],
   "source": [
    "users_joined_per_year = spark.sql(\"\"\"\n",
    "    SELECT\n",
    "        EXTRACT(YEAR FROM date_joined) AS post_year,\n",
    "        COUNT(DISTINCT(user_name)) AS number_users_joined\n",
    "    FROM df_all \n",
    "    WHERE EXTRACT(YEAR FROM date_joined) BETWEEN 2015 AND 2020\n",
    "    GROUP BY post_year\n",
    "\"\"\")\n",
    "display(users_joined_per_year)"
   ]
  },
  {
   "cell_type": "markdown",
   "metadata": {
    "application/vnd.databricks.v1+cell": {
     "cellMetadata": {
      "byteLimit": 2048000,
      "rowLimit": 10000
     },
     "inputWidgets": {},
     "nuid": "ee5646ee-5a9b-4e74-95a2-a22cb6a83669",
     "showTitle": false,
     "title": ""
    }
   },
   "source": [
    "#### Question 7: Find the median follower count of users based on their joining year\n",
    "\n",
    "- Find the median follower count of users have joined between 2015 and 2020.\n",
    "- Your query should return a DataFrame that contains the following columns: (`post_year`, `median_follower_count`)"
   ]
  },
  {
   "cell_type": "code",
   "execution_count": 0,
   "metadata": {
    "application/vnd.databricks.v1+cell": {
     "cellMetadata": {
      "byteLimit": 2048000,
      "rowLimit": 10000
     },
     "inputWidgets": {},
     "nuid": "facf0a89-dd86-4793-83c6-93f7784e09de",
     "showTitle": false,
     "title": ""
    }
   },
   "outputs": [],
   "source": [
    "median_follower_per_join_year = spark.sql(\"\"\"\n",
    "    SELECT\n",
    "        EXTRACT(YEAR FROM date_joined) AS post_year,\n",
    "        PERCENTILE_CONT(0.5) WITHIN GROUP (ORDER BY follower_count) AS median_follower_count\n",
    "    FROM df_all \n",
    "    WHERE EXTRACT(YEAR FROM date_joined) BETWEEN 2015 AND 2020\n",
    "    GROUP BY post_year\n",
    "\"\"\")\n",
    "display(median_follower_per_join_year)"
   ]
  },
  {
   "cell_type": "markdown",
   "metadata": {
    "application/vnd.databricks.v1+cell": {
     "cellMetadata": {
      "byteLimit": 2048000,
      "rowLimit": 10000
     },
     "inputWidgets": {},
     "nuid": "5e678abb-80ee-45ed-84dc-561c2b1cd47f",
     "showTitle": false,
     "title": ""
    }
   },
   "source": [
    "#### Question 8: Find the median follower count of users based on their joining year and age group\n",
    "\n",
    "- Find the median follower count of users that have joined between 2015 and 2020, based on which age group they are part of.\n",
    "- The query should return a DataFrame that contains the following columns: (`age_group`, `post_year`, `median_follower_count`)"
   ]
  },
  {
   "cell_type": "code",
   "execution_count": 0,
   "metadata": {
    "application/vnd.databricks.v1+cell": {
     "cellMetadata": {
      "byteLimit": 2048000,
      "rowLimit": 10000
     },
     "inputWidgets": {},
     "nuid": "3c76974a-9b3e-49f5-a008-d959b0b53324",
     "showTitle": false,
     "title": ""
    }
   },
   "outputs": [],
   "source": [
    "median_follower_per_join_year_age_group = spark.sql(\"\"\"\n",
    "    SELECT\n",
    "        CASE \n",
    "            WHEN Age BETWEEN 18 AND 24 THEN '18-24'\n",
    "            WHEN Age BETWEEN 25 AND 35 THEN '25-35'\n",
    "            WHEN Age BETWEEN 36 AND 50 THEN '36-50'\n",
    "            WHEN Age >= 51 then '50+'\n",
    "            ELSE 'NA'\n",
    "        End as age_group,\n",
    "        EXTRACT(YEAR FROM date_joined) AS post_year,\n",
    "        PERCENTILE_CONT(0.5) WITHIN GROUP (ORDER BY follower_count) AS median_follower_count\n",
    "    FROM df_all \n",
    "    WHERE EXTRACT(YEAR FROM date_joined) BETWEEN 2015 AND 2020\n",
    "    GROUP BY age_group, post_year\n",
    "    Order by age_group, post_year\n",
    "\"\"\")\n",
    "display(median_follower_per_join_year_age_group)"
   ]
  }
 ],
 "metadata": {
  "application/vnd.databricks.v1+notebook": {
   "dashboards": [],
   "language": "python",
   "notebookMetadata": {
    "pythonIndentUnit": 4
   },
   "notebookName": "query_batch_data_direct",
   "widgets": {}
  }
 },
 "nbformat": 4,
 "nbformat_minor": 0
}
